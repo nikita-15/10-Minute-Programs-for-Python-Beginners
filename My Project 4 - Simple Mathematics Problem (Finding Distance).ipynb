{
 "cells": [
  {
   "cell_type": "markdown",
   "metadata": {},
   "source": [
    "# Simple Mathematics Problem (Finding Distance)"
   ]
  },
  {
   "cell_type": "markdown",
   "metadata": {},
   "source": [
    "From our High School Mathematics, we know that:\n",
    "\n",
    "s=u*t+(1/2)*a*t**2\n",
    "\n",
    "Where,\n",
    "\n",
    "s = Distance\n",
    "\n",
    "u = Initial Velocity (Unit: m/s)\n",
    "\n",
    "a = Acceleration (Unit: m/s^2)\n",
    "\n",
    "t = Time (Unit: Second)"
   ]
  },
  {
   "cell_type": "code",
   "execution_count": null,
   "metadata": {},
   "outputs": [],
   "source": [
    "import tensorflow as tf"
   ]
  },
  {
   "cell_type": "code",
   "execution_count": null,
   "metadata": {},
   "outputs": [],
   "source": [
    "u=tf.placeholder(tf.float32)\n",
    "\n",
    "a=tf.placeholder(tf.float32)\n",
    "\n",
    "t=tf.placeholder(tf.float32)"
   ]
  },
  {
   "cell_type": "code",
   "execution_count": null,
   "metadata": {},
   "outputs": [],
   "source": [
    "# Input the values from the user.\n",
    "\n",
    "vel=input(\"Velocity is \")\n",
    "acc=input(\"Acceleration is \")\n",
    "time=input(\"Time is \")"
   ]
  },
  {
   "cell_type": "code",
   "execution_count": null,
   "metadata": {},
   "outputs": [],
   "source": []
  },
  {
   "cell_type": "code",
   "execution_count": null,
   "metadata": {},
   "outputs": [],
   "source": [
    "# Define the required Equation.\n",
    "\n",
    "s=u*t+0.5*a*t**2"
   ]
  },
  {
   "cell_type": "code",
   "execution_count": null,
   "metadata": {},
   "outputs": [],
   "source": [
    "# Define the values in a Dictionary.\n",
    "\n",
    "dictionary={t:time,u:vel,a:acc}"
   ]
  },
  {
   "cell_type": "code",
   "execution_count": null,
   "metadata": {},
   "outputs": [],
   "source": [
    "# Run the Session.\n",
    "\n",
    "with tf.Session() as sess:\n",
    "    print(sess.run(s,feed_dict=dictionary))\n"
   ]
  },
  {
   "cell_type": "markdown",
   "metadata": {},
   "source": [
    "You can check if your program is correct by manually solving the equation as well. If the answers match, you are good to go!"
   ]
  }
 ],
 "metadata": {
  "kernelspec": {
   "display_name": "Python 3",
   "language": "python",
   "name": "python3"
  },
  "language_info": {
   "codemirror_mode": {
    "name": "ipython",
    "version": 3
   },
   "file_extension": ".py",
   "mimetype": "text/x-python",
   "name": "python",
   "nbconvert_exporter": "python",
   "pygments_lexer": "ipython3",
   "version": "3.7.3"
  }
 },
 "nbformat": 4,
 "nbformat_minor": 2
}
