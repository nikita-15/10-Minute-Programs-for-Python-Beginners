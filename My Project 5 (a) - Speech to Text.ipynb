{
 "cells": [
  {
   "cell_type": "markdown",
   "metadata": {},
   "source": [
    "# Speech to Text"
   ]
  },
  {
   "cell_type": "markdown",
   "metadata": {},
   "source": [
    "In this Project, we will be running a very easy Speech-to-Text Program using the Google Speech Recognition API. This only requires two main libraries which you will need to install. After that, the program will input the audio, and then convert it into text. By default, the language used by the Google API will be English. You can also try other languages, as you will see in the rest of the program."
   ]
  },
  {
   "cell_type": "code",
   "execution_count": null,
   "metadata": {},
   "outputs": [],
   "source": [
    "# You will first need to install the Port Audio and Pyaudio Libraries. The easiest way to do this is,\n",
    "# if you have Anaconda, open the Environments space and then install the package directly to your Environment."
   ]
  },
  {
   "cell_type": "code",
   "execution_count": null,
   "metadata": {},
   "outputs": [],
   "source": [
    "# Here, you install the Speech Recognition Library. Remove the hash to install it.\n",
    "\n",
    "#pip install SpeechRecognition"
   ]
  },
  {
   "cell_type": "code",
   "execution_count": null,
   "metadata": {},
   "outputs": [],
   "source": [
    "import speech_recognition as sr"
   ]
  },
  {
   "cell_type": "code",
   "execution_count": null,
   "metadata": {},
   "outputs": [],
   "source": [
    "r=sr.Recognizer()"
   ]
  },
  {
   "cell_type": "code",
   "execution_count": null,
   "metadata": {
    "scrolled": true
   },
   "outputs": [],
   "source": [
    "with sr.Microphone() as source:\n",
    "    print(\"Hi, welcome to the speech recognition program! Try it by saying something:\");\n",
    "    audio=r.listen(source)\n",
    "    print(\"Great job! Let's see what you said... \")\n",
    "    \n",
    "try:\n",
    "    print(\"Text version: \"+r.recognize_google(audio));\n",
    "\n",
    "# In case the program cannot understand the audio, it will provide an error.\n",
    "except sr.UnknownValueError:\n",
    "    print(\"Error, please try again.\")\n",
    "\n",
    "# Sometimes the code might take very long to run, as it is picking up too much extra noise."
   ]
  },
  {
   "cell_type": "code",
   "execution_count": null,
   "metadata": {},
   "outputs": [],
   "source": []
  },
  {
   "cell_type": "markdown",
   "metadata": {},
   "source": [
    "If you want to print the text in another language, say, French, type in the following code."
   ]
  },
  {
   "cell_type": "code",
   "execution_count": null,
   "metadata": {},
   "outputs": [],
   "source": [
    "with sr.Microphone() as source:\n",
    "    print(\"Hi, welcome to the speech recognition program! Try it by saying something:\");\n",
    "    audio=r.listen(source)\n",
    "    print(\"Great job! Let's see what you said... \")\n",
    "    \n",
    "try:\n",
    "    print(\"Text version: \"+r.recognize_google(audio, language='fr-FR'));\n",
    "\n",
    "except sr.UnknownValueError:\n",
    "    print(\"Error, please try again.\")"
   ]
  },
  {
   "cell_type": "markdown",
   "metadata": {},
   "source": [
    "It can also understand and print in the alphabet of a given Language. For example, consider the Indian Language, 'Hindi', which has its own script."
   ]
  },
  {
   "cell_type": "code",
   "execution_count": null,
   "metadata": {},
   "outputs": [],
   "source": [
    "with sr.Microphone() as source:\n",
    "    print(\"Hi, welcome to the speech recognition program! Try it by saying something:\");\n",
    "    audio=r.listen(source)\n",
    "    print(\"Great job! Let's see what you said... \")\n",
    "    \n",
    "try:\n",
    "    print(\"Text version: \"+r.recognize_google(audio, language='hi-IN'));\n",
    "\n",
    "except sr.UnknownValueError:\n",
    "    print(\"Error, please try again.\")"
   ]
  },
  {
   "cell_type": "markdown",
   "metadata": {},
   "source": [
    "To know more about which languages the API supports, click here - https://cloud.google.com/speech-to-text/docs/languages"
   ]
  },
  {
   "cell_type": "code",
   "execution_count": null,
   "metadata": {},
   "outputs": [],
   "source": []
  },
  {
   "cell_type": "markdown",
   "metadata": {},
   "source": [
    "Suppose you want to convert an entire audio file into text. All you need to do is define it, and after that, replace it in the code.\n",
    "Note: This works only for WAV, AIFF, and FLAC."
   ]
  },
  {
   "cell_type": "code",
   "execution_count": null,
   "metadata": {},
   "outputs": [],
   "source": [
    "# Your audio file\n",
    "myaudio = (\"myaudio.wav\") "
   ]
  },
  {
   "cell_type": "code",
   "execution_count": null,
   "metadata": {},
   "outputs": [],
   "source": [
    "with sr.AudioFile(myaudio) as source:\n",
    "    print(\"Hi, welcome to the speech recognition program! Try it by saying something:\");\n",
    "    # We change \"listen\" to \"record\".\n",
    "    audio=r.record(source)\n",
    "    print(\"Great job! Let's see what you said... \")\n",
    "    \n",
    "try:\n",
    "    print(\"Text version: \"+r.recognize_google(audio));\n",
    "\n",
    "except sr.UnknownValueError:\n",
    "    print(\"Error, please try again.\")"
   ]
  },
  {
   "cell_type": "code",
   "execution_count": null,
   "metadata": {},
   "outputs": [],
   "source": []
  }
 ],
 "metadata": {
  "kernelspec": {
   "display_name": "Python 3",
   "language": "python",
   "name": "python3"
  },
  "language_info": {
   "codemirror_mode": {
    "name": "ipython",
    "version": 3
   },
   "file_extension": ".py",
   "mimetype": "text/x-python",
   "name": "python",
   "nbconvert_exporter": "python",
   "pygments_lexer": "ipython3",
   "version": "3.7.3"
  }
 },
 "nbformat": 4,
 "nbformat_minor": 2
}
